{
 "cells": [
  {
   "cell_type": "code",
   "execution_count": 1,
   "id": "89f9c442-2136-44e5-8728-c8ee7bfc604a",
   "metadata": {},
   "outputs": [
    {
     "name": "stdout",
     "output_type": "stream",
     "text": [
      "Predict function created.\n",
      "Backtest function created.\n",
      "Function to add more predictors has been created.\n",
      "packages imported\n",
      "datasets imported\n",
      "Target columns created for all stocks\n"
     ]
    }
   ],
   "source": [
    "## STEP 1: PRE-PROCESSING\n",
    "\n",
    "## IMPORTING PACKAGES\n",
    "import pandas as pd\n",
    "import numpy as np\n",
    "import matplotlib\n",
    "from sklearn.ensemble import RandomForestClassifier\n",
    "from sklearn.metrics import accuracy_score, classification_report\n",
    "from sklearn.model_selection import train_test_split\n",
    "from sklearn.metrics import precision_score\n",
    "import Project_Library as pl\n",
    "\n",
    "print('packages imported')\n",
    "\n",
    "\n",
    "## IMPORTING DATASETS - FROM st1 to st10\n",
    "for i in range(1, 11):\n",
    "    globals()[f'df{i}'] = pd.read_csv(f'Data/st{i}.csv', parse_dates=['Date'], index_col='Date')\n",
    "\n",
    "print('datasets imported')\n",
    "\n",
    "\n",
    "## CREATING TARGET COLUMN\n",
    "stocks_list = [df1, df2, df3, df4, df5, df6, df7, df8, df9, df10]\n",
    "stocks_list = pl.create_target_column(stocks_list)\n",
    "\n"
   ]
  },
  {
   "cell_type": "code",
   "execution_count": 2,
   "id": "89520943-36b5-4f4b-bc8a-7957757c17bc",
   "metadata": {},
   "outputs": [
    {
     "name": "stdout",
     "output_type": "stream",
     "text": [
      "Model created\n",
      "Basic Predictors: ['Close', 'Volume', 'Open', 'High', 'Low']\n",
      "Running model for stock 1\n",
      "Running model for stock 2\n",
      "Running model for stock 3\n",
      "Running model for stock 4\n",
      "Running model for stock 5\n",
      "Running model for stock 6\n",
      "Running model for stock 7\n",
      "Running model for stock 8\n",
      "Running model for stock 9\n",
      "Running model for stock 10\n",
      "Top 5 Stocks by Accuracy:\n",
      "Stock_10: 0.5331\n",
      "Stock_9: 0.5257\n",
      "Stock_2: 0.5242\n",
      "Stock_7: 0.5196\n",
      "Stock_6: 0.5188\n"
     ]
    }
   ],
   "source": [
    "## STEP 2: BUILDING PREDICTION MACHINE LEARNING MODEL.\n",
    "\n",
    "## BUILDING MACHINE LEARNING MODEL USING RANDOM FOREST - WITH BASIC PREDICTORS\n",
    "from sklearn.ensemble import RandomForestClassifier\n",
    "model = RandomForestClassifier(n_estimators=200, min_samples_split=100, random_state=1)\n",
    "print('Model created')\n",
    "\n",
    "# DEFINE THE BASIC PREDICTORS\n",
    "predictors = ['Close', 'Volume', 'Open', 'High', 'Low']\n",
    "print('Basic Predictors:', predictors)\n",
    "\n",
    "# Run model for all stocks and get top 5 stocks with the highest accuracy\n",
    "top_5_stocks = pl.run_model_for_all_stocks(stocks_list, model, predictors)\n",
    "\n",
    "# Print the top 5 stocks with their accuracy\n",
    "print(\"Top 5 Stocks by Accuracy:\")\n",
    "for stock, accuracy in top_5_stocks:\n",
    "    print(f\"{stock}: {accuracy:.4f}\")"
   ]
  },
  {
   "cell_type": "code",
   "execution_count": null,
   "id": "14197340-3281-4854-bf78-d6919bb98ccb",
   "metadata": {},
   "outputs": [],
   "source": []
  },
  {
   "cell_type": "code",
   "execution_count": 4,
   "id": "26341465-4102-48d5-97a9-dfe62ba1d230",
   "metadata": {},
   "outputs": [
    {
     "name": "stdout",
     "output_type": "stream",
     "text": [
      "\n",
      "Running model for stock 1...\n",
      "\n",
      "Running model for stock 2...\n",
      "\n",
      "Running model for stock 3...\n"
     ]
    },
    {
     "name": "stderr",
     "output_type": "stream",
     "text": [
      "/Users/joonwee/Desktop/Senior Manager - Quantitative Strategies/Cleaned Scripts/Project_Library.py:72: FutureWarning: The default fill_method='pad' in Series.pct_change is deprecated and will be removed in a future version. Either fill in any non-leading NA values prior to calling pct_change or specify 'fill_method=None' to not fill NA values.\n",
      "  df[\"Prev_Close_Return\"] = df[\"Close\"].pct_change()\n"
     ]
    },
    {
     "name": "stdout",
     "output_type": "stream",
     "text": [
      "\n",
      "Running model for stock 4...\n",
      "\n",
      "Running model for stock 5...\n",
      "\n",
      "Running model for stock 6...\n",
      "\n",
      "Running model for stock 7...\n",
      "\n",
      "Running model for stock 8...\n",
      "\n",
      "Running model for stock 9...\n",
      "\n",
      "Running model for stock 10...\n",
      "Predictors: ['Close_Ratio_2', 'Trend_2', 'Close_Ratio_5', 'Trend_5', 'Close_Ratio_60', 'Trend_60', 'Close_Ratio_250', 'Trend_250', 'Close_Ratio_1000', 'Trend_1000', 'Prev_Close_Return', 'Intraday_Volatility', 'Volume_Spike_Ratio_5']\n",
      "\n",
      "\n",
      "Top 5 Stocks with Highest Accuracy (with additional predictors):\n",
      "Stock_9: Accuracy = 0.5367\n",
      "Stock_6: Accuracy = 0.5266\n",
      "Stock_2: Accuracy = 0.5222\n",
      "Stock_10: Accuracy = 0.5214\n",
      "Stock_8: Accuracy = 0.5179\n"
     ]
    }
   ],
   "source": [
    "## STEP 3: BUILDING MACHINE LEARNING MODEL USING RANDOM FOREST - WITH DERIVED PREDICTORS\n",
    "\n",
    "# ADDING THE ROLLING AVERAGES AND TRENDS.\n",
    "horizons = [2, 5, 60, 250, 1000]\n",
    "accuracy_scores = {}\n",
    "\n",
    "## LOOPING THROUGH EACH STOCK\n",
    "for idx, df in enumerate(stocks_list):\n",
    "    print(f\"\\nRunning model for stock {idx + 1}...\")\n",
    "\n",
    "    df_stock = df.copy()\n",
    "\n",
    "    ## ROLLING AVERAGE PREDICTORS\n",
    "    new_predictors = []\n",
    "    for horizon in horizons:\n",
    "        rolling_averages = df_stock.rolling(horizon).mean()\n",
    "\n",
    "        ratio_column = f\"Close_Ratio_{horizon}\"\n",
    "        df_stock[ratio_column] = df_stock[\"Close\"] / rolling_averages[\"Close\"]\n",
    "\n",
    "        trend_column = f\"Trend_{horizon}\"\n",
    "        df_stock[trend_column] = df_stock.shift(1).rolling(horizon).sum()[\"Target\"]\n",
    "\n",
    "        new_predictors += [ratio_column, trend_column]\n",
    "\n",
    "    ## ADDING ADDITIONAL PREDICTORS\n",
    "    df_stock, additional_predictors = pl.add_more_predictors(df_stock)\n",
    "\n",
    "    ## DEFINING THE PREDICTORS\n",
    "    predictors = new_predictors + additional_predictors\n",
    "\n",
    "    ## DROPPING NA AGAIN (JUST IN CASE)\n",
    "    df_stock.dropna(inplace=True)\n",
    "\n",
    "    # MODELLING WITH RF.\n",
    "    model = RandomForestClassifier(n_estimators=200, min_samples_split=100, random_state=1)\n",
    "    predictions = pl.backtest(df_stock, model, predictors)\n",
    "\n",
    "    ## CALCULATING THE ACCURACY\n",
    "    acc = accuracy_score(predictions[\"Target\"], predictions[\"Predictions\"])\n",
    "    accuracy_scores[f\"Stock_{idx + 1}\"] = acc\n",
    "\n",
    "## PICK TOP 5 BASED ON ACCURACY\n",
    "print('Predictors:', predictors)\n",
    "print('')\n",
    "top_5 = sorted(accuracy_scores.items(), key=lambda x: x[1], reverse=True)[:5]\n",
    "\n",
    "print(\"\\nTop 5 Stocks with Highest Accuracy (with additional predictors):\")\n",
    "for stock, acc in top_5:\n",
    "    print(f\"{stock}: Accuracy = {acc:.4f}\")\n",
    "\n"
   ]
  },
  {
   "cell_type": "code",
   "execution_count": null,
   "id": "895fb2aa-355f-423b-aad1-8a32db69cd39",
   "metadata": {},
   "outputs": [],
   "source": []
  },
  {
   "cell_type": "code",
   "execution_count": null,
   "id": "c2951769-9cb1-4d36-add4-dc841ce1b4bc",
   "metadata": {},
   "outputs": [],
   "source": []
  },
  {
   "cell_type": "code",
   "execution_count": null,
   "id": "710e9160-7e07-4d14-9b59-ce304931d734",
   "metadata": {},
   "outputs": [],
   "source": []
  },
  {
   "cell_type": "code",
   "execution_count": null,
   "id": "f1276971-d857-4a14-a086-0a1f7ae9bd00",
   "metadata": {},
   "outputs": [],
   "source": []
  }
 ],
 "metadata": {
  "kernelspec": {
   "display_name": "Python 3 (ipykernel)",
   "language": "python",
   "name": "python3"
  },
  "language_info": {
   "codemirror_mode": {
    "name": "ipython",
    "version": 3
   },
   "file_extension": ".py",
   "mimetype": "text/x-python",
   "name": "python",
   "nbconvert_exporter": "python",
   "pygments_lexer": "ipython3",
   "version": "3.13.3"
  }
 },
 "nbformat": 4,
 "nbformat_minor": 5
}
